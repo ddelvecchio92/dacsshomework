{
  "nbformat": 4,
  "nbformat_minor": 0,
  "metadata": {
    "colab": {
      "name": "Dana Del Vecchio - D601_HW1.ipynb",
      "provenance": [],
      "collapsed_sections": []
    },
    "kernelspec": {
      "name": "ir",
      "display_name": "R"
    }
  },
  "cells": [
    {
      "cell_type": "markdown",
      "metadata": {
        "id": "EXRRGAU4ZOow"
      },
      "source": [
        "This is an interactive notebook similar to interactive (Jupyter) notebooks you might have used in a CS course. Technically, this file is a python notebook - thus the suffix of .ipynb. However, this particular notebook is setup to run the R kernal, thus any executible code snippets are run in R (not python.) \n",
        "\n",
        "There are two ways to complete this homework - use the template to run on your personal computer or interactively through Google Colab.\n",
        "\n",
        "\n",
        "---\n",
        "\n",
        "\n",
        "####Template on Personal Computer\n",
        "A template is provided at the bottom of this notebook that can be cut\n",
        "and pasted in order to edit and run in R/RStudio on your personal computer. After you have edited the file to your satisfaction, simply cut and paste the syntax back into this file to submit.\n",
        "\n",
        "\n",
        "---\n",
        "\n",
        "\n",
        "####Interactive Colab Notebook\n",
        "Alternatively, you can do the whole assignment in Google Colab by following the steps below. *This notebook is a copy of the original homework template, so you can edit it without affecting anyone else's copy.* \n",
        "\n",
        "*   Load Needed Libraries\n",
        "*   Mount Google Drive (requires authentication)\n",
        "*   Run R commands interactively in designated code snippets\n"
      ]
    },
    {
      "cell_type": "markdown",
      "metadata": {
        "id": "KJWbxkQjsXc9"
      },
      "source": [
        "# Load Needed Libraries\n",
        "\n",
        "Note that the library *colabr* is a custom package created for the DACSS program by Hans Quiogue '21."
      ]
    },
    {
      "cell_type": "code",
      "metadata": {
        "id": "MgZxiLi1s-Lh",
        "colab": {
          "base_uri": "https://localhost:8080/"
        },
        "outputId": "7213d42f-79fd-4df7-8d5b-8a35a5316651"
      },
      "source": [
        "# Install these packages if you haven't already\n",
        "if (!require('colabr')) devtools::install_github('hansquiogue/colabr', force=TRUE)\n",
        "if (!require('tidyverse')) install.packages('tidyverse')"
      ],
      "execution_count": null,
      "outputs": [
        {
          "output_type": "stream",
          "text": [
            "Loading required package: colabr\n",
            "\n",
            "Warning message in library(package, lib.loc = lib.loc, character.only = TRUE, logical.return = TRUE, :\n",
            "“there is no package called ‘colabr’”\n",
            "Downloading GitHub repo hansquiogue/colabr@HEAD\n",
            "\n"
          ],
          "name": "stderr"
        },
        {
          "output_type": "stream",
          "text": [
            "R.methodsS3 (NA    -> 1.8.1 ) [CRAN]\n",
            "lifecycle   (0.2.0 -> 1.0.0 ) [CRAN]\n",
            "rmarkdown   (2.6   -> 2.7   ) [CRAN]\n",
            "broom       (0.7.4 -> 0.7.5 ) [CRAN]\n",
            "testthat    (3.0.1 -> 3.0.2 ) [CRAN]\n",
            "R.oo        (NA    -> 1.24.0) [CRAN]\n",
            "gargle      (NA    -> 0.5.0 ) [CRAN]\n",
            "R.utils     (NA    -> 2.10.1) [CRAN]\n",
            "googledrive (NA    -> 1.0.1 ) [CRAN]\n",
            "reticulate  (NA    -> 1.18  ) [CRAN]\n"
          ],
          "name": "stdout"
        },
        {
          "output_type": "stream",
          "text": [
            "Installing 10 packages: R.methodsS3, lifecycle, rmarkdown, broom, testthat, R.oo, gargle, R.utils, googledrive, reticulate\n",
            "\n",
            "Installing packages into ‘/usr/local/lib/R/site-library’\n",
            "(as ‘lib’ is unspecified)\n",
            "\n"
          ],
          "name": "stderr"
        },
        {
          "output_type": "stream",
          "text": [
            "\u001b[32m✔\u001b[39m  \u001b[90mchecking for file ‘/tmp/RtmpvJATjS/remotes3b748cf067/hansquiogue-colabr-7950faa/DESCRIPTION’\u001b[39m\u001b[36m\u001b[39m\n",
            "\u001b[90m─\u001b[39m\u001b[90m  \u001b[39m\u001b[90mpreparing ‘colabr’:\u001b[39m\u001b[36m\u001b[39m\n",
            "\u001b[32m✔\u001b[39m  \u001b[90mchecking DESCRIPTION meta-information\u001b[39m\u001b[36m\u001b[39m\n",
            "\u001b[90m─\u001b[39m\u001b[90m  \u001b[39m\u001b[90mchecking for LF line-endings in source and make files and shell scripts\u001b[39m\u001b[36m\u001b[39m\n",
            "\u001b[90m─\u001b[39m\u001b[90m  \u001b[39m\u001b[90mchecking for empty or unneeded directories\u001b[39m\u001b[36m\u001b[39m\n",
            "\u001b[90m─\u001b[39m\u001b[90m  \u001b[39m\u001b[90mbuilding ‘colabr_0.1.6.tar.gz’\u001b[39m\u001b[36m\u001b[39m\n",
            "   \n"
          ],
          "name": "stdout"
        },
        {
          "output_type": "stream",
          "text": [
            "Installing package into ‘/usr/local/lib/R/site-library’\n",
            "(as ‘lib’ is unspecified)\n",
            "\n",
            "Loading required package: tidyverse\n",
            "\n",
            "── \u001b[1mAttaching packages\u001b[22m ─────────────────────────────────────── tidyverse 1.3.0 ──\n",
            "\n",
            "\u001b[32m✔\u001b[39m \u001b[34mggplot2\u001b[39m 3.3.3     \u001b[32m✔\u001b[39m \u001b[34mpurrr  \u001b[39m 0.3.4\n",
            "\u001b[32m✔\u001b[39m \u001b[34mtibble \u001b[39m 3.0.6     \u001b[32m✔\u001b[39m \u001b[34mdplyr  \u001b[39m 1.0.4\n",
            "\u001b[32m✔\u001b[39m \u001b[34mtidyr  \u001b[39m 1.1.2     \u001b[32m✔\u001b[39m \u001b[34mstringr\u001b[39m 1.4.0\n",
            "\u001b[32m✔\u001b[39m \u001b[34mreadr  \u001b[39m 1.4.0     \u001b[32m✔\u001b[39m \u001b[34mforcats\u001b[39m 0.5.1\n",
            "\n",
            "── \u001b[1mConflicts\u001b[22m ────────────────────────────────────────── tidyverse_conflicts() ──\n",
            "\u001b[31m✖\u001b[39m \u001b[34mdplyr\u001b[39m::\u001b[32mfilter()\u001b[39m masks \u001b[34mstats\u001b[39m::filter()\n",
            "\u001b[31m✖\u001b[39m \u001b[34mdplyr\u001b[39m::\u001b[32mlag()\u001b[39m    masks \u001b[34mstats\u001b[39m::lag()\n",
            "\n"
          ],
          "name": "stderr"
        }
      ]
    },
    {
      "cell_type": "code",
      "metadata": {
        "id": "3hHUxKj0aOXE"
      },
      "source": [
        "# Load libraries\n",
        "library(colabr)\n",
        "library(tidyverse)"
      ],
      "execution_count": null,
      "outputs": []
    },
    {
      "cell_type": "markdown",
      "metadata": {
        "id": "RXoj_zSbZcXl"
      },
      "source": [
        "## Mount Google Drive to access Shared Data Folder"
      ]
    },
    {
      "cell_type": "markdown",
      "metadata": {
        "id": "UmdCjcCdXz-n"
      },
      "source": [
        "First, you will need to identify the link for the drive file or folder you will be using. For this assignement, the link is included in the command already. \n",
        "\n",
        "When you run the command below, you will be given a URL and an empty box. Click the URL, authenticate tidyverse using the correct UMass google account, and then hit the copy button to copy the authorization code back into the empty box below."
      ]
    },
    {
      "cell_type": "code",
      "metadata": {
        "id": "F-qnuK4-csW4",
        "colab": {
          "base_uri": "https://localhost:8080/"
        },
        "outputId": "37d65137-0c17-448d-82a7-bb8bd6d1c1c7"
      },
      "source": [
        "# Mount and Authenticate Google Drive File or Folder\n",
        "download_drive(\"https://drive.google.com/drive/folders/1oKDW1dCdVF-A59hvJ3Frt71X0fMHDBgd?usp=sharing\")"
      ],
      "execution_count": null,
      "outputs": [
        {
          "output_type": "stream",
          "text": [
            "Folder link detected.\n",
            "\n",
            "Please ensure the folder does not contain any sub-folders inside. Otherwise, an error might occur.\n",
            "\n",
            "File downloaded:\n",
            "  * hw1.zip\n",
            "Saved locally as:\n",
            "  * hw1.zip\n",
            "\n",
            "File downloaded:\n",
            "  * scdb.csv\n",
            "Saved locally as:\n",
            "  * scdb.csv\n",
            "\n",
            "File downloaded:\n",
            "  * covid-responses2.tab\n",
            "Saved locally as:\n",
            "  * covid-responses2.tab\n",
            "\n",
            "File downloaded:\n",
            "  * congressional_hearings.csv\n",
            "Saved locally as:\n",
            "  * congressional_hearings.csv\n",
            "\n"
          ],
          "name": "stderr"
        }
      ]
    },
    {
      "cell_type": "markdown",
      "metadata": {
        "id": "gtItOK1HdQNn"
      },
      "source": [
        "<img src=\"https://i.imgur.com/vGhxj4A.png\" alt=\"alert\" width=\"50\" height=\"50\">\n",
        "<br><font size=\"+1\" face=\"Arial\" color=\"Red\" id=\"preview\">Make sure the that the folder does not contain sub-folders inside it! Having sub-folders will give errors running the code below. There should only be files inside!</font>"
      ]
    },
    {
      "cell_type": "markdown",
      "metadata": {
        "id": "Alv6GpW6gfDy"
      },
      "source": [
        "## Read in Data"
      ]
    },
    {
      "cell_type": "markdown",
      "metadata": {
        "id": "P0IvV7ovfGke"
      },
      "source": [
        "What you need to do from here on out is dependent on the dataset you choose to work with! Here's an example of how to read in a file using \"+\" as a delimiter. *Replace the text below with the R syntax that will read in your chosen file.*"
      ]
    },
    {
      "cell_type": "code",
      "metadata": {
        "id": "sW6GSXY3fDGZ"
      },
      "source": [
        "#edit this command to read your data\n",
        "myData <- read.csv(\"/content/scdb.csv\", sep = \",\", header=T)"
      ],
      "execution_count": null,
      "outputs": []
    },
    {
      "cell_type": "markdown",
      "metadata": {
        "id": "OrVywWmmfZDP"
      },
      "source": [
        "Let's unpack the code above a bit. \n",
        "I'm creating an object called myData\n",
        "\n",
        "*   I'm creating an object called **myData**\n",
        "*   I'm using the **read.delim()** function to read in data\n",
        "*   I'm specifying the name of the **\"file\"** that contains the data\n",
        "*   if the **\"file\"** isn't in my working directory, it will need a path\n",
        "*   for google colab files in our shared directory, use the path **\"/content/file\"**\n",
        "*   Variables are delimited in the file commas (\",\")\n",
        "*  I'm specifying that there is a header included in the data that features the following variable names: "
      ]
    },
    {
      "cell_type": "markdown",
      "metadata": {
        "id": "qpnOUfYlgjlJ"
      },
      "source": [
        "## Inspect Data"
      ]
    },
    {
      "cell_type": "markdown",
      "metadata": {
        "id": "apPrge-Lgmb9"
      },
      "source": [
        "Now, let's check the first few rows. I'll let you remember how to do that!"
      ]
    },
    {
      "cell_type": "code",
      "metadata": {
        "id": "r7OzJFYvfYht"
      },
      "source": [
        "#read.table(scdb.csv,header=TRUE)\n",
        "head(dataset, 10)"
      ],
      "execution_count": null,
      "outputs": []
    }
  ]
}